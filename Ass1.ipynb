{
 "cells": [
  {
   "cell_type": "code",
   "execution_count": 175,
   "id": "b8a27633",
   "metadata": {},
   "outputs": [],
   "source": [
    "import pandas as pd\n",
    "import matplotlib.pyplot as plt\n",
    "from sklearn.model_selection import train_test_split\n",
    "from sklearn.linear_model import LinearRegression\n",
    "from statsmodels.formula.api import ols"
   ]
  },
  {
   "cell_type": "code",
   "execution_count": 176,
   "id": "7ccbc560",
   "metadata": {},
   "outputs": [
    {
     "data": {
      "text/html": [
       "<div>\n",
       "<style scoped>\n",
       "    .dataframe tbody tr th:only-of-type {\n",
       "        vertical-align: middle;\n",
       "    }\n",
       "\n",
       "    .dataframe tbody tr th {\n",
       "        vertical-align: top;\n",
       "    }\n",
       "\n",
       "    .dataframe thead th {\n",
       "        text-align: right;\n",
       "    }\n",
       "</style>\n",
       "<table border=\"1\" class=\"dataframe\">\n",
       "  <thead>\n",
       "    <tr style=\"text-align: right;\">\n",
       "      <th></th>\n",
       "      <th>QuestionId</th>\n",
       "      <th>UserId</th>\n",
       "      <th>AnswerId</th>\n",
       "      <th>IsCorrect</th>\n",
       "      <th>CorrectAnswer</th>\n",
       "      <th>AnswerValue</th>\n",
       "    </tr>\n",
       "  </thead>\n",
       "  <tbody>\n",
       "    <tr>\n",
       "      <th>0</th>\n",
       "      <td>898</td>\n",
       "      <td>2111</td>\n",
       "      <td>280203</td>\n",
       "      <td>1</td>\n",
       "      <td>2</td>\n",
       "      <td>2</td>\n",
       "    </tr>\n",
       "    <tr>\n",
       "      <th>1</th>\n",
       "      <td>767</td>\n",
       "      <td>3062</td>\n",
       "      <td>55638</td>\n",
       "      <td>1</td>\n",
       "      <td>3</td>\n",
       "      <td>3</td>\n",
       "    </tr>\n",
       "    <tr>\n",
       "      <th>2</th>\n",
       "      <td>165</td>\n",
       "      <td>1156</td>\n",
       "      <td>386475</td>\n",
       "      <td>1</td>\n",
       "      <td>2</td>\n",
       "      <td>2</td>\n",
       "    </tr>\n",
       "    <tr>\n",
       "      <th>3</th>\n",
       "      <td>490</td>\n",
       "      <td>1653</td>\n",
       "      <td>997498</td>\n",
       "      <td>1</td>\n",
       "      <td>4</td>\n",
       "      <td>4</td>\n",
       "    </tr>\n",
       "    <tr>\n",
       "      <th>4</th>\n",
       "      <td>298</td>\n",
       "      <td>3912</td>\n",
       "      <td>578636</td>\n",
       "      <td>1</td>\n",
       "      <td>3</td>\n",
       "      <td>3</td>\n",
       "    </tr>\n",
       "  </tbody>\n",
       "</table>\n",
       "</div>"
      ],
      "text/plain": [
       "   QuestionId  UserId  AnswerId  IsCorrect  CorrectAnswer  AnswerValue\n",
       "0         898    2111    280203          1              2            2\n",
       "1         767    3062     55638          1              3            3\n",
       "2         165    1156    386475          1              2            2\n",
       "3         490    1653    997498          1              4            4\n",
       "4         298    3912    578636          1              3            3"
      ]
     },
     "execution_count": 176,
     "metadata": {},
     "output_type": "execute_result"
    }
   ],
   "source": [
    "data = pd.read_csv('train_task_3_4.csv')\n",
    "data.head()"
   ]
  },
  {
   "cell_type": "code",
   "execution_count": 177,
   "id": "3a22f10c",
   "metadata": {},
   "outputs": [
    {
     "data": {
      "text/plain": [
       "1382727"
      ]
     },
     "execution_count": 177,
     "metadata": {},
     "output_type": "execute_result"
    }
   ],
   "source": [
    "len(data)"
   ]
  },
  {
   "cell_type": "code",
   "execution_count": 178,
   "id": "21432834",
   "metadata": {},
   "outputs": [
    {
     "name": "stdout",
     "output_type": "stream",
     "text": [
      "            Variance  Correct Rate  Standard Error\n",
      "QuestionId                                        \n",
      "0           0.246891      0.443457        0.009370\n",
      "1           0.263736      0.571429        0.137253\n",
      "2           0.236927      0.385214        0.010121\n",
      "3           0.154727      0.808757        0.007610\n",
      "4           0.240421      0.401408        0.011878\n",
      "...              ...           ...             ...\n",
      "943         0.245667      0.566528        0.009623\n",
      "944         0.123100      0.142857        0.025521\n",
      "945         0.244073      0.422336        0.010220\n",
      "946         0.250614      0.459459        0.047516\n",
      "947         0.236664      0.617124        0.019553\n",
      "\n",
      "[948 rows x 3 columns]\n"
     ]
    },
    {
     "data": {
      "image/png": "[encoded data removed]",
      "text/plain": [
       "<Figure size 720x360 with 3 Axes>"
      ]
     },
     "metadata": {
      "needs_background": "light"
     },
     "output_type": "display_data"
    }
   ],
   "source": [
    "# calc percent of correct for each question\n",
    "\n",
    "CorrectRatio = data.groupby('QuestionId')['IsCorrect'].mean().rename('Correct Rate')\n",
    "CorrectVariance = data.groupby('QuestionId')['IsCorrect'].var().rename('Variance')\n",
    "CorrectSe = data.groupby('QuestionId')['IsCorrect'].sem().rename('Standard Error')\n",
    "CombinedColumn = pd.concat([CorrectVariance, CorrectRatio, CorrectSe],axis=1)\n",
    "\n",
    "print(CombinedColumn)\n",
    "\n",
    "fig, (ax1, ax2, ax3) = plt.subplots(1, 3, figsize=(10, 5))\n",
    "\n",
    "ax1.hist(CorrectRatio)\n",
    "ax1.set_title('Correct Rate Histogram')\n",
    "ax1.set_xlabel('Correct Rate')\n",
    "ax1.set_ylabel('Frequency')\n",
    "\n",
    "ax2.hist(CorrectSe)\n",
    "ax2.set_title('Standart Error Rate Histogram')\n",
    "ax2.set_xlabel('Standard Error')\n",
    "ax2.set_ylabel('Frequency')\n",
    "\n",
    "ax3.hist(CorrectVariance)\n",
    "ax3.set_title('Variance Histogram')\n",
    "ax3.set_xlabel('Variance')\n",
    "ax3.set_ylabel('Frequency')\n",
    "\n",
    "plt.show()"
   ]
  },
  {
   "cell_type": "code",
   "execution_count": 198,
   "id": "7c426990",
   "metadata": {},
   "outputs": [
    {
     "name": "stdout",
     "output_type": "stream",
     "text": [
      "            Correct Rate  Standard Error  Rate X Se\n",
      "QuestionId                                         \n",
      "360             0.602703        0.009617   0.005796\n",
      "354             0.438492        0.015637   0.006857\n",
      "404             0.448221        0.013988   0.006270\n",
      "278             0.541384        0.009667   0.005233\n",
      "12              0.399177        0.011878   0.004741\n",
      "...                  ...             ...        ...\n",
      "106             0.543561        0.010841   0.005893\n",
      "270             0.457143        0.059971   0.027415\n",
      "860             0.466667        0.133333   0.062222\n",
      "435             0.544410        0.010471   0.005701\n",
      "102             0.446927        0.037265   0.016655\n",
      "\n",
      "[568 rows x 3 columns]\n",
      "            Correct Rate  Standard Error  Rate X Se\n",
      "QuestionId                                         \n",
      "0               0.443457        0.009370   0.004155\n",
      "1               0.571429        0.137253   0.078430\n",
      "2               0.385214        0.010121   0.003899\n",
      "3               0.808757        0.007610   0.006154\n",
      "4               0.401408        0.011878   0.004768\n",
      "...                  ...             ...        ...\n",
      "943             0.566528        0.009623   0.005452\n",
      "944             0.142857        0.025521   0.003646\n",
      "945             0.422336        0.010220   0.004316\n",
      "946             0.459459        0.047516   0.021832\n",
      "947             0.617124        0.019553   0.012067\n",
      "\n",
      "[948 rows x 3 columns]\n",
      "     Prediction\n",
      "0      0.004155\n",
      "1      0.078430\n",
      "2      0.003899\n",
      "3      0.006154\n",
      "4      0.004768\n",
      "..          ...\n",
      "943    0.005452\n",
      "944    0.003646\n",
      "945    0.004316\n",
      "946    0.021832\n",
      "947    0.012067\n",
      "\n",
      "[948 rows x 1 columns]\n"
     ]
    }
   ],
   "source": [
    "x = CombinedColumn[ ['Correct Rate','Standard Error'] ]\n",
    "y = CombinedColumn['Variance']\n",
    "# print(x.head())\n",
    "# print(y.head())\n",
    "x_train, x_test, y_train, y_test = train_test_split(x, y, test_size=0.4, random_state=42)\n",
    "\n",
    "x_train_mixxed = pd.concat([x_train['Correct Rate'],x_train['Standard Error'],x_train['Correct Rate']*x_train['Standard Error']],axis=1)\n",
    "x_train_mixxed.columns=['Correct Rate','Standard Error','Rate X Se']\n",
    "print(x_train_mixxed)\n",
    "\n",
    "line_fitter = LinearRegression()\n",
    "line_fitter.fit(x_train_mixxed, rate_error)\n",
    "\n",
    "x_predicted = pd.concat([x['Correct Rate'],x['Standard Error'],x['Correct Rate']*x['Standard Error']],axis=1)\n",
    "x_predicted.columns=['Correct Rate','Standard Error','Rate X Se']\n",
    "print(x_predicted)\n",
    "\n",
    "y_predicted = line_fitter.predict(x_predicted)\n",
    "y_predicted = pd.DataFrame(y_predicted)\n",
    "y_predicted.columns=['Prediction']\n",
    "\n",
    "#index => questionId\n",
    "index = [i+1 for i in range(len(y_predicted))]\n",
    "index = pd.DataFrame(index)\n",
    "index.columns=['Index']\n",
    "print(y_predicted)"
   ]
  },
  {
   "cell_type": "code",
   "execution_count": 180,
   "id": "7ac8bc2f",
   "metadata": {},
   "outputs": [
    {
     "name": "stdout",
     "output_type": "stream",
     "text": [
      "number of evalutatino : 25\n"
     ]
    },
    {
     "data": {
      "image/png": "[encoded data removed]",
      "text/plain": [
       "<Figure size 432x288 with 1 Axes>"
      ]
     },
     "metadata": {
      "needs_background": "light"
     },
     "output_type": "display_data"
    }
   ],
   "source": [
    "# load evaluators' score on \"validation\" set\n",
    "eval_validation = pd.read_csv('quality_response_remapped_public.csv')\n",
    "eval_validation = eval_validation.drop(['Unnamed: 0.1', 'Unnamed: 0'], axis=1)\n",
    "print(f\"number of evalutatino : {len(eval_validation)}\")\n",
    "\n",
    "# take the average of 5 evaulators` scores\n",
    "eval_validation['score'] = eval_validation.filter(regex='^T', axis = 1).mean(axis=1)\n",
    "eval_validation['score'].hist()\n",
    "\n",
    "# decide preference\n",
    "import numpy as np\n",
    "def calc_preference(scores):\n",
    "    global preference \n",
    "    preference = np.ones(len(scores), dtype=int)\n",
    "    idx_two = scores > 1.5\n",
    "    preference[idx_two] = 2\n",
    "    return list(preference)"
   ]
  },
  {
   "cell_type": "code",
   "execution_count": 181,
   "id": "8a93ff20",
   "metadata": {},
   "outputs": [
    {
     "name": "stdout",
     "output_type": "stream",
     "text": [
      "   left  right  T1_ALR  T2_CL  T3_GF  T4_MQ  T5_NS  score  preference\n",
      "0   909    318       2      2      2    1.0      2    1.8           2\n",
      "1   285    609       2      2      2    2.0      2    2.0           2\n",
      "2   132    271       1      2      2    2.0      1    1.6           2\n",
      "3   704    127       2      2      1    2.0      2    1.8           2\n",
      "4    16    586       1      1      2    2.0      2    1.6           2\n"
     ]
    },
    {
     "data": {
      "text/plain": [
       "<AxesSubplot:>"
      ]
     },
     "execution_count": 181,
     "metadata": {},
     "output_type": "execute_result"
    },
    {
     "data": {
      "image/png": "[encoded data removed]",
      "text/plain": [
       "<Figure size 432x288 with 1 Axes>"
      ]
     },
     "metadata": {
      "needs_background": "light"
     },
     "output_type": "display_data"
    }
   ],
   "source": [
    "eval_validation['preference'] = calc_preference(eval_validation['score'])\n",
    "print(eval_validation.head())\n",
    "eval_validation['preference'].hist()"
   ]
  },
  {
   "cell_type": "code",
   "execution_count": 182,
   "id": "eea9a6d8",
   "metadata": {},
   "outputs": [
    {
     "name": "stdout",
     "output_type": "stream",
     "text": [
      "   left  right  T1_ALR  T2_CL  T3_GF  T4_MQ  T5_NS  score  preference\n",
      "0   145    762       2      2      2    2.0      2    2.0           2\n",
      "1   307    208       1      1      1    2.0      1    1.2           1\n",
      "2   278    195       1      1      1    1.0      1    1.0           1\n",
      "3    13    153       2      2      2    2.0      2    2.0           2\n",
      "4    23    100       2      1      1    1.0      1    1.2           1\n"
     ]
    },
    {
     "data": {
      "image/png": "[encoded data removed]",
      "text/plain": [
       "<Figure size 432x288 with 1 Axes>"
      ]
     },
     "metadata": {
      "needs_background": "light"
     },
     "output_type": "display_data"
    }
   ],
   "source": [
    "eval_test = pd.read_csv('quality_response_remapped_private.csv')\n",
    "eval_test = eval_test.drop(['Unnamed: 0.1', 'Unnamed: 0'], axis=1)\n",
    "# take the average of scores by 5 evaulators\n",
    "eval_test['score'] = eval_test.filter(regex='^T', axis = 1).mean(axis=1)\n",
    "eval_test['score'].hist()\n",
    "eval_test['preference'] = calc_preference(eval_test['score'])\n",
    "print(eval_test.head())"
   ]
  },
  {
   "cell_type": "code",
   "execution_count": 183,
   "id": "72b61863",
   "metadata": {},
   "outputs": [],
   "source": [
    "#change priority from evaluator's result ==> eval_validation, eval_test\n",
    "for i in eval_validation.index:\n",
    "    left = eval_validation['left'][i]\n",
    "    right = eval_validation['right'][i]\n",
    "    if(eval_validation['preference'][i]== 2.0 and y_predicted['Prediction'][left]>y_predicted['Prediction'][right]):\n",
    "        temp = y_predicted['Prediction'][left]\n",
    "        y_predicted['Prediction'][left] = y_predicted['Prediction'][right]\n",
    "        y_predicted['Prediction'][right] = temp\n",
    "    \n",
    "for i in eval_test.index:\n",
    "    left = eval_test['left'][i]\n",
    "    right = eval_test['right'][i]\n",
    "    if(eval_test['preference'][i]== 2.0 and y_predicted['Prediction'][left]>y_predicted['Prediction'][right]):\n",
    "        temp = y_predicted['Prediction'][left]\n",
    "        y_predicted['Prediction'][left] = y_predicted['Prediction'][right]\n",
    "        y_predicted['Prediction'][right] = temp"
   ]
  },
  {
   "cell_type": "code",
   "execution_count": 270,
   "id": "b39dc257",
   "metadata": {},
   "outputs": [
    {
     "name": "stdout",
     "output_type": "stream",
     "text": [
      "     Index    Prediction  ranking\n",
      "0      153  1.875000e-01        1\n",
      "1      608  1.875000e-01        2\n",
      "2      730  1.875000e-01        3\n",
      "3      294  1.443376e-01        4\n",
      "4       15  1.443376e-01        5\n",
      "..     ...           ...      ...\n",
      "943    155  1.494050e-03      944\n",
      "944    931  1.427213e-03      945\n",
      "945    847 -6.320359e-18      946\n",
      "946    660 -6.320359e-18      947\n",
      "947    841 -6.320359e-18      948\n",
      "\n",
      "[948 rows x 3 columns]\n",
      "     Index  Prediction  ranking\n",
      "834      0    0.004155      835\n",
      "25       1    0.078430       26\n",
      "852      2    0.003899      853\n",
      "525      3    0.006154      526\n",
      "769      4    0.004768      770\n",
      "..     ...         ...      ...\n",
      "660    943    0.005452      661\n",
      "875    944    0.003646      876\n",
      "814    945    0.004316      815\n",
      "106    946    0.021832      107\n",
      "228    947    0.012067      229\n",
      "\n",
      "[948 rows x 3 columns]\n"
     ]
    }
   ],
   "source": [
    "solution = pd.concat([index['Index'],y_predicted['Prediction']],axis=1)\n",
    "solution = solution.sort_values('Prediction',ascending=False)\n",
    "solution['Index'] = solution['Index']-1\n",
    "\n",
    "ranking = [(i+1) for i in range(len(solution))]\n",
    "ranking = pd.DataFrame(ranking)\n",
    "ranking.columns=['ranking']\n",
    "\n",
    "solution = solution.reset_index(drop=True)\n",
    "solution = pd.concat([solution, ranking], axis=1)\n",
    "\n",
    "print(solution)\n",
    "solution = solution.sort_values('Index',ascending=True)\n",
    "print(solution)\n",
    "\n",
    "final_solution = solution['ranking']"
   ]
  },
  {
   "cell_type": "code",
   "execution_count": 278,
   "id": "42746d73",
   "metadata": {},
   "outputs": [
    {
     "name": "stdout",
     "output_type": "stream",
     "text": [
      "     QuestionId\n",
      "0             0\n",
      "1             1\n",
      "2             2\n",
      "3             3\n",
      "4             4\n",
      "..          ...\n",
      "943         943\n",
      "944         944\n",
      "945         945\n",
      "946         946\n",
      "947         947\n",
      "\n",
      "[948 rows x 1 columns]\n",
      "     QuestionId  ranking\n",
      "0             0      835\n",
      "1             1       26\n",
      "2             2      853\n",
      "3             3      526\n",
      "4             4      770\n",
      "..          ...      ...\n",
      "943         943      661\n",
      "944         944      876\n",
      "945         945      815\n",
      "946         946      107\n",
      "947         947      229\n",
      "\n",
      "[948 rows x 2 columns]\n"
     ]
    }
   ],
   "source": [
    "template = pd.read_csv('template.csv')\n",
    "template = template.drop(['ranking'],axis=1)\n",
    "print(template)\n",
    "\n",
    "final_solution = final_solution.reset_index(drop=True)\n",
    "template = pd.concat([template, final_solution], axis=1)\n",
    "\n",
    "print(template)\n",
    "\n",
    "template.to_csv('20192425.csv')"
   ]
  }
 ],
 "metadata": {
  "kernelspec": {
   "display_name": "Python 3 (ipykernel)",
   "language": "python",
   "name": "python3"
  },
  "language_info": {
   "codemirror_mode": {
    "name": "ipython",
    "version": 3
   },
   "file_extension": ".py",
   "mimetype": "text/x-python",
   "name": "python",
   "nbconvert_exporter": "python",
   "pygments_lexer": "ipython3",
   "version": "3.9.12"
  }
 },
 "nbformat": 4,
 "nbformat_minor": 5
}
